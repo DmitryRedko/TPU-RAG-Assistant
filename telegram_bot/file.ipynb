{
 "cells": [
  {
   "cell_type": "code",
   "execution_count": 27,
   "metadata": {},
   "outputs": [
    {
     "name": "stdout",
     "output_type": "stream",
     "text": [
      "Преподаватель найден:\n"
     ]
    },
    {
     "ename": "TypeError",
     "evalue": "string indices must be integers",
     "output_type": "error",
     "traceback": [
      "\u001b[0;31m---------------------------------------------------------------------------\u001b[0m",
      "\u001b[0;31mTypeError\u001b[0m                                 Traceback (most recent call last)",
      "\u001b[0;32m/tmp/ipykernel_65016/1038247193.py\u001b[0m in \u001b[0;36m<cell line: 25>\u001b[0;34m()\u001b[0m\n\u001b[1;32m     25\u001b[0m \u001b[0;32mif\u001b[0m \u001b[0mfound_teacher\u001b[0m\u001b[0;34m:\u001b[0m\u001b[0;34m\u001b[0m\u001b[0;34m\u001b[0m\u001b[0m\n\u001b[1;32m     26\u001b[0m     \u001b[0mprint\u001b[0m\u001b[0;34m(\u001b[0m\u001b[0;34m\"Преподаватель найден:\"\u001b[0m\u001b[0;34m)\u001b[0m\u001b[0;34m\u001b[0m\u001b[0;34m\u001b[0m\u001b[0m\n\u001b[0;32m---> 27\u001b[0;31m     \u001b[0mprint\u001b[0m\u001b[0;34m(\u001b[0m\u001b[0;34m\"Имя:\"\u001b[0m\u001b[0;34m,\u001b[0m \u001b[0mfound_teacher\u001b[0m\u001b[0;34m[\u001b[0m\u001b[0;34m\"name\"\u001b[0m\u001b[0;34m]\u001b[0m\u001b[0;34m)\u001b[0m\u001b[0;34m\u001b[0m\u001b[0;34m\u001b[0m\u001b[0m\n\u001b[0m\u001b[1;32m     28\u001b[0m     \u001b[0;32mif\u001b[0m \u001b[0;34m\"position\"\u001b[0m \u001b[0;32min\u001b[0m \u001b[0mfound_teacher\u001b[0m\u001b[0;34m:\u001b[0m\u001b[0;34m\u001b[0m\u001b[0;34m\u001b[0m\u001b[0m\n\u001b[1;32m     29\u001b[0m         \u001b[0mprint\u001b[0m\u001b[0;34m(\u001b[0m\u001b[0;34m\"Должность:\"\u001b[0m\u001b[0;34m,\u001b[0m \u001b[0mfound_teacher\u001b[0m\u001b[0;34m[\u001b[0m\u001b[0;34m\"position\"\u001b[0m\u001b[0;34m]\u001b[0m\u001b[0;34m)\u001b[0m\u001b[0;34m\u001b[0m\u001b[0;34m\u001b[0m\u001b[0m\n",
      "\u001b[0;31mTypeError\u001b[0m: string indices must be integers"
     ]
    }
   ],
   "source": [
    "import difflib\n",
    "\n",
    "\n",
    "# Функция для поиска преподавателя по ФИО\n",
    "def find_teacher(input_name):\n",
    "    # Приводим входные данные к нижнему регистру для сравнения\n",
    "    input_name_lower = input_name.lower()\n",
    "    \n",
    "    # Ищем наиболее подходящее имя преподавателя\n",
    "    best_match = difflib.get_close_matches(input_name_lower, [teacher.lower() for teacher in teachers], n=1, cutoff=0.6)\n",
    "    \n",
    "    if best_match:\n",
    "        best_match_name = best_match[0]\n",
    "        # Получаем информацию о преподавателе\n",
    "        for teacher in teachers:\n",
    "            if teacher.lower() == best_match_name:\n",
    "                return teacher\n",
    "    else:\n",
    "        return None\n",
    "\n",
    "# Пример использования\n",
    "input_name = \"большвуно23ва тат2ьяна сергее1вна\"  # Запрос пользователя\n",
    "found_teacher = find_teacher(input_name)\n",
    "\n",
    "if found_teacher:\n",
    "    print(\"Преподаватель найден:\")\n",
    "    print(\"Имя:\", found_teacher[\"name\"])\n",
    "    if \"position\" in found_teacher:\n",
    "        print(\"Должность:\", found_teacher[\"position\"])\n",
    "    if \"department\" in found_teacher:\n",
    "        print(\"Отдел:\", found_teacher[\"department\"])\n",
    "    if \"courses\" in found_teacher:\n",
    "        print(\"Преподаваемые курсы:\", ', '.join(found_teacher[\"courses\"]))\n",
    "    if \"trainings\" in found_teacher:\n",
    "        print(\"Пройденные тренинги:\", ', '.join(found_teacher[\"trainings\"]))\n",
    "    if \"hours\" in found_teacher:\n",
    "        print(\"Часы:\", found_teacher[\"hours\"])\n",
    "    if \"email\" in found_teacher:\n",
    "        print(\"Email:\", found_teacher[\"email\"])\n",
    "else:\n",
    "    print(\"Преподаватель не найден\")\n"
   ]
  },
  {
   "cell_type": "code",
   "execution_count": 31,
   "metadata": {},
   "outputs": [
    {
     "name": "stdout",
     "output_type": "stream",
     "text": [
      "Информация о преподавателе:\n",
      "ФИО: Мягкий Александр Николаевич\n",
      "Информация: Мягкий Александр Николаевич\n",
      "Доцент (Отделение математики и математической физики, ИЯТШ)\n",
      "Академическое консультирование, Численные методы, Час куратора, Обработка больших объемов данных, Научно-исследовательская работа в семестре, Математика 2.1.5, Интегральные уравнения и вариационное исчисление, Дифференциальные уравнения, Векторный и тензорный анализ\n",
      "Физика, Физик\n",
      "Кандидат наук,Физико-математические науки\n",
      "\n",
      "ТПУ, Первая помощь, Кол.часов=16, с 20-FEB-23 по 03-MAR-23, удостоверение о повышении квалификации;Национальный исследовательский Томский государственный университет ФГАОУ ВО, Индустриальная математика: моделирование задач гидродинамики в газотранспортных системах, , с 22-NOV-21 по 13-DEC-21, удостоверение о повышении квалификации\n",
      "30.57\n",
      "21.64\n",
      "Прикладная математика в инженерии, Физика конденсированного состояния, Математическое моделирование и компьютерные вычисления, Математические методы в экономике\n",
      "\n"
     ]
    }
   ],
   "source": [
    "import difflib\n",
    "\n",
    "def parse_teachers(file_path):\n",
    "    teachers = {}\n",
    "    with open(file_path, 'r', encoding='utf-8') as file:\n",
    "        for line in file:\n",
    "            data = line.strip().split('\\t')\n",
    "            \n",
    "            if data[0] != \"Преподаватели\":\n",
    "                name = data[0]\n",
    "                # Добавление данных в словарь\n",
    "                teachers[name] = {'name': name, 'info': line.replace('\\t', '\\n')}\n",
    "            \n",
    "    return teachers\n",
    "\n",
    "# Загрузка данных о преподавателях\n",
    "teachers = parse_teachers(\"./data/staff.txt\")\n",
    "\n",
    "# Функция для поиска преподавателя по ФИО с возможностью коррекции ошибок\n",
    "def find_teacher(input_name):\n",
    "    # Приведение входного имени к нижнему регистру для сравнения\n",
    "    input_name_lower = input_name.lower()\n",
    "    \n",
    "    # Инициализация списка возможных совпадений\n",
    "    possible_matches = difflib.get_close_matches(input_name_lower, teachers.keys(), n=1, cutoff=0.6)\n",
    "    \n",
    "    # Проверка наличия совпадений\n",
    "    if possible_matches:\n",
    "        best_match_name = possible_matches[0]\n",
    "        # Возвращаем данные о преподавателе\n",
    "        return teachers[best_match_name]\n",
    "    else:\n",
    "        # Если нет совпадений, попробуем искать только по фамилии\n",
    "        # Разбиваем входное имя на компоненты\n",
    "        name_parts = input_name.split()\n",
    "        # Берем только последнюю часть (фамилию)\n",
    "        last_name = name_parts[-1].lower()\n",
    "        # Ищем наиболее подходящую фамилию из словаря\n",
    "        possible_last_names = difflib.get_close_matches(last_name, [name.split()[1].lower() for name in teachers.keys()], n=1, cutoff=0.6)\n",
    "        if possible_last_names:\n",
    "            # Если нашли подходящую фамилию, ищем преподавателя по ней\n",
    "            best_match_name = possible_last_names[0]\n",
    "            return teachers[best_match_name]\n",
    "        else:\n",
    "            # Если и по фамилии нет совпадений, возвращаем None\n",
    "            return None\n",
    "\n",
    "# Пример использования\n",
    "teacher_info = find_teacher(\"мяг2кий ал234ександр никол12аевич\")\n",
    "if teacher_info:\n",
    "    print(\"Информация о преподавателе:\")\n",
    "    print(\"ФИО:\", teacher_info['name'])\n",
    "    print(\"Информация:\", teacher_info['info'])\n",
    "    \n",
    "else:\n",
    "    print(\"Преподаватель не найден.\")\n"
   ]
  },
  {
   "cell_type": "code",
   "execution_count": null,
   "metadata": {},
   "outputs": [],
   "source": []
  }
 ],
 "metadata": {
  "kernelspec": {
   "display_name": "Python 3",
   "language": "python",
   "name": "python3"
  },
  "language_info": {
   "codemirror_mode": {
    "name": "ipython",
    "version": 3
   },
   "file_extension": ".py",
   "mimetype": "text/x-python",
   "name": "python",
   "nbconvert_exporter": "python",
   "pygments_lexer": "ipython3",
   "version": "3.10.12"
  },
  "orig_nbformat": 4
 },
 "nbformat": 4,
 "nbformat_minor": 2
}
